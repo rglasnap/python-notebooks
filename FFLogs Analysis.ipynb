{
 "cells": [
  {
   "cell_type": "code",
   "execution_count": null,
   "metadata": {},
   "outputs": [],
   "source": [
    "import pandas as pd\n",
    "import numpy as np\n",
    "import json as json"
   ]
  },
  {
   "cell_type": "code",
   "execution_count": null,
   "metadata": {},
   "outputs": [],
   "source": [
    "pd.set_option('display.max_colwidth', None)"
   ]
  },
  {
   "cell_type": "code",
   "execution_count": null,
   "metadata": {},
   "outputs": [],
   "source": [
    "with open('./FFData.json') as FF_fp:\n",
    "    ffdata = json.load(FF_fp)\n",
    "\n",
    "charName = ffdata['Name']\n",
    "bossName = \"Barbariccia\""
   ]
  },
  {
   "cell_type": "code",
   "execution_count": null,
   "metadata": {},
   "outputs": [],
   "source": [
    "#fflog = pd.read_csv('FF Logs - Combat Analysis for FF.csv', parse_dates=[0])\n",
    "#fflog2 = pd.read_csv('FF Logs - Combat Analysis for FF 2.csv', parse_dates=[0])\n",
    "#fflog3 = pd.read_csv('FF Logs - Combat Analysis for FF 3.csv', parse_dates=[0])\n",
    "fflog1 = pd.read_csv('FF Logs - Combat Analysis for FF B1.csv', parse_dates=[0])\n",
    "fflog2 = pd.read_csv('FF Logs - Combat Analysis for FF B2.csv', parse_dates=[0])\n",
    "\n",
    "fflog = pd.concat([fflog1,fflog2])\n",
    "\n",
    "fflog.set_index('Time', inplace=True)\n",
    "\n",
    "fflog = fflog.join(fflog.Event.str.extract(f'^(?P<Actor>.*{charName}\\)?) (?P<Ability>.*) {bossName} [a-zA-Z]*\\s?\\*?(?P<Damage>\\d*)\\*?.*?(?P<Buff>\\d% damage)?$'))\n",
    "fflog['Damage'] = pd.to_numeric(fflog.Damage)\n",
    "fflog.loc[fflog['Event'].str.contains('\\*'), 'Crit'] = True\n",
    "fflog['Crit'].fillna(False, inplace=True)\n",
    "\n",
    "fflog.loc[fflog['Event'].str.contains('Direct Hit'), 'DirectHit'] = True\n",
    "fflog['DirectHit'].fillna(False, inplace=True)\n"
   ]
  },
  {
   "cell_type": "code",
   "execution_count": null,
   "metadata": {},
   "outputs": [],
   "source": [
    "~fflog['Crit']"
   ]
  },
  {
   "cell_type": "raw",
   "metadata": {},
   "source": [
    "#fflog.drop(fflog.loc[fflog.Event.str.contains('prepares')].index, inplace=True)"
   ]
  },
  {
   "cell_type": "code",
   "execution_count": null,
   "metadata": {},
   "outputs": [],
   "source": []
  },
  {
   "cell_type": "code",
   "execution_count": null,
   "metadata": {},
   "outputs": [],
   "source": [
    "ability_name = 'Emerald Rite'\n",
    "print(fflog.loc[(~fflog['Crit']) & (~fflog['DirectHit']) & (fflog['Ability'] == ability_name),'Damage'].describe())\n",
    "\n",
    "fflog.loc[fflog['Ability']==ability_name].boxplot(column='Damage',by=['Crit','DirectHit'])"
   ]
  },
  {
   "cell_type": "code",
   "execution_count": null,
   "metadata": {},
   "outputs": [],
   "source": [
    "fflog.tail()"
   ]
  },
  {
   "cell_type": "code",
   "execution_count": null,
   "metadata": {},
   "outputs": [],
   "source": [
    "titan_abilities = \n",
    "\n",
    "first_topaz = fflog.loc[fflog.Ability=='Topaz Rite'].head(1).index.array[0]\n",
    "before_topaz = (first_topaz - pd.Timedelta(seconds=5)).strftime('%X')\n",
    "after_topaz = (first_topaz + pd.Timedelta(seconds=20)).strftime('%X')\n",
    "\n",
    "btw = fflog.between_time(before_topaz, after_topaz)\n",
    "btw.loc[btw.Ability.isin(['Topaz Rite','Earthen Fury','Mountain Buster'])]\n",
    "\n",
    "titan_base = btw.loc[btw.Ability.isin(['Topaz Rite','Earthen Fury','Mountain Buster'])].Damage.sum()"
   ]
  },
  {
   "cell_type": "code",
   "execution_count": null,
   "metadata": {},
   "outputs": [],
   "source": [
    "first_topaz = fflog.loc[fflog.Ability=='Ruby Rite'].head(1).index.array[0]\n",
    "before_topaz = (first_topaz - pd.Timedelta(seconds=15)).strftime('%X')\n",
    "after_topaz = (first_topaz + pd.Timedelta(seconds=20)).strftime('%X')\n",
    "\n",
    "btw = fflog.between_time(before_topaz, after_topaz)\n",
    "btw.loc[btw.Ability.isin(['Ruby Rite','Inferno','Crimson Cyclone','Crimson Strike'])]\n",
    "\n",
    "ifrit_base = btw.loc[btw.Ability.isin(['Ruby Rite','Inferno','Crimson Cyclone','Crimson Strike'])].Damage.sum()\n"
   ]
  },
  {
   "cell_type": "code",
   "execution_count": null,
   "metadata": {},
   "outputs": [],
   "source": [
    "titan_phase = fflog.loc[fflog.Ability=='Earthen Fury'].Damage.mean()\n",
    "titan_phase += fflog.loc[fflog.Ability=='Topaz Rite'].Damage.mean()*4\n",
    "titan_phase += fflog.loc[fflog.Ability=='Mountain Buster'].Damage.mean()*4\n",
    "\n",
    "ifrit_phase = fflog.loc[fflog.Ability=='Inferno'].Damage.mean()\n",
    "ifrit_phase += fflog.loc[fflog.Ability=='Crimson Cyclone'].Damage.mean()\n",
    "ifrit_phase += fflog.loc[fflog.Ability=='Crimson Strike'].Damage.mean()\n",
    "ifrit_phase += fflog.loc[fflog.Ability=='Ruby Rite'].Damage.mean()*2\n",
    "\n",
    "total_time = (fflog.tail(1).index.array[0] - fflog.head(1).index.array[0]).total_seconds()"
   ]
  },
  {
   "cell_type": "code",
   "execution_count": null,
   "metadata": {},
   "outputs": [],
   "source": [
    "titan_phase*0.03/total_time"
   ]
  },
  {
   "cell_type": "code",
   "execution_count": null,
   "metadata": {},
   "outputs": [],
   "source": [
    "ifrit_phase"
   ]
  },
  {
   "cell_type": "code",
   "execution_count": null,
   "metadata": {},
   "outputs": [],
   "source": [
    "(fflog.tail(1).index.array[0] - fflog.head(1).index.array[0]).total_seconds()"
   ]
  },
  {
   "cell_type": "code",
   "execution_count": null,
   "metadata": {},
   "outputs": [],
   "source": [
    "fflog.loc[fflog.Ability=='Topaz Rite','Damage'].sum()"
   ]
  },
  {
   "cell_type": "code",
   "execution_count": null,
   "metadata": {},
   "outputs": [],
   "source": [
    "fflog.loc[fflog.Ability=='prepares  Topaz Rite  on','Damage'].describe()"
   ]
  },
  {
   "cell_type": "code",
   "execution_count": null,
   "metadata": {},
   "outputs": [],
   "source": []
  }
 ],
 "metadata": {
  "kernelspec": {
   "display_name": "Python 3",
   "language": "python",
   "name": "python3"
  },
  "language_info": {
   "codemirror_mode": {
    "name": "ipython",
    "version": 3
   },
   "file_extension": ".py",
   "mimetype": "text/x-python",
   "name": "python",
   "nbconvert_exporter": "python",
   "pygments_lexer": "ipython3"
  }
 },
 "nbformat": 4,
 "nbformat_minor": 4
}
