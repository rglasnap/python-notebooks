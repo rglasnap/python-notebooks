{
 "cells": [
  {
   "cell_type": "markdown",
   "metadata": {},
   "source": [
    "# Japanese Temperature Data Collection\n",
    "This is a companion to the other Japanese Meteorological Agency notebook on Sakura Data processing.\n",
    "\n",
    "\n",
    "Sources:\n",
    "* https://www.data.jma.go.jp/obd/stats/data/mdrr/man/kansoku_gaiyou.html  (smater.index file)\n",
    "* https://www.data.jma.go.jp/gmd/risk/obsdl/index.php Temperature Request site\n",
    "\n",
    "Notes:\n",
    "I'm really hoping this smaster file has the data I need. Well not so much the data as it is the station identifiers that get used in the POST requests to the other link.\n",
    "\n",
    "Notes2:\n",
    "This data file has the data I need! HOORAY! Well at least part of it, the station numbers match up with the last 3 digits of the requests I manually put in for Kyoto, Nara, and Osaka"
   ]
  },
  {
   "cell_type": "code",
   "execution_count": 16,
   "metadata": {},
   "outputs": [],
   "source": [
    "import sys\n",
    "import pandas as pd\n",
    "import numpy as np"
   ]
  },
  {
   "cell_type": "code",
   "execution_count": 2,
   "metadata": {},
   "outputs": [
    {
     "name": "stdout",
     "output_type": "stream",
     "text": [
      "401 18343       ﾜﾂｶﾅｲ   WAKKANAI    4524901414070        32    11961010119651231　　　　　　　　　　　　　　　　　　　                            \n",
      "\n",
      "401 18143       ﾜﾂｶﾅｲ   WAKKANAI    4524901414070        32    11966010119661231　　　　　　　　　　　　　　　　　　　                            \n",
      "\n",
      "401 18573       ﾜﾂｶﾅｲ   WAKKANAI    4524901414070        32    11967010119671231　　　　　　　　　　　　　　　　　　　                            \n",
      "\n",
      "401 18578       ﾜﾂｶﾅｲ   WAKKANAI    4524901414070        32    11968010119681231　　　　　　　　　　　　　　　　　　　                            \n",
      "\n",
      "401 18578       ﾜﾂｶﾅｲ   WAKKANAI    4524901414070       109    11969010119701231　　　　　　　　　　　　　　　　　　　                            \n",
      "\n"
     ]
    }
   ],
   "source": [
    "with open('Japan Temp Data/smaster.index', encoding='shift_jis') as file:\n",
    "    for i in range(5):\n",
    "        line = file.readline()\n",
    "        print(line)\n",
    "    "
   ]
  },
  {
   "cell_type": "code",
   "execution_count": 3,
   "metadata": {},
   "outputs": [],
   "source": [
    "col_widths = [3 ,1 ,1 ,1 ,1 ,1 ,1 ,1 ,1 ,1 ,2 ,1 ,1 ,8 ,12 ,6 ,7,5 ,5 ,3 ,1 ,1 ,8 ,8 ,12 ,18 ,8 ,5 ,12 ,1 ,1 ,1 ,1 ,1 ,1 ,5]\n",
    "\n",
    "with open('Japan Temp Data/smaster.index', encoding='shift_jis') as file:\n",
    "    smaster = pd.read_fwf(file,header=None,widths=col_widths,dtype='object')"
   ]
  },
  {
   "cell_type": "code",
   "execution_count": 19,
   "metadata": {},
   "outputs": [
    {
     "data": {
      "text/plain": [
       "array(['412', 'SAPPORO'], dtype=object)"
      ]
     },
     "execution_count": 19,
     "metadata": {},
     "output_type": "execute_result"
    }
   ],
   "source": [
    "np.unique(smaster.loc[smaster[14] == 'SAPPORO'][[0,14]])"
   ]
  },
  {
   "cell_type": "code",
   "execution_count": 50,
   "metadata": {},
   "outputs": [],
   "source": [
    "site_list = smaster[[0,14]].drop_duplicates()\n",
    "site_list.rename(columns={0:'Site Id',14:'Site Name'},inplace=True)\n",
    "\n",
    "site_list['Site Id'] = 's47' + site_list['Site Id']\n",
    "site_list['Site Name'] = site_list['Site Name'].str.title()"
   ]
  },
  {
   "cell_type": "code",
   "execution_count": 52,
   "metadata": {},
   "outputs": [
    {
     "data": {
      "text/html": [
       "<div>\n",
       "<style scoped>\n",
       "    .dataframe tbody tr th:only-of-type {\n",
       "        vertical-align: middle;\n",
       "    }\n",
       "\n",
       "    .dataframe tbody tr th {\n",
       "        vertical-align: top;\n",
       "    }\n",
       "\n",
       "    .dataframe thead th {\n",
       "        text-align: right;\n",
       "    }\n",
       "</style>\n",
       "<table border=\"1\" class=\"dataframe\">\n",
       "  <thead>\n",
       "    <tr style=\"text-align: right;\">\n",
       "      <th></th>\n",
       "      <th>Site Id</th>\n",
       "      <th>Site Name</th>\n",
       "    </tr>\n",
       "  </thead>\n",
       "  <tbody>\n",
       "    <tr>\n",
       "      <th>1845</th>\n",
       "      <td>s47759</td>\n",
       "      <td>Kyoto</td>\n",
       "    </tr>\n",
       "  </tbody>\n",
       "</table>\n",
       "</div>"
      ],
      "text/plain": [
       "     Site Id Site Name\n",
       "1845  s47759     Kyoto"
      ]
     },
     "execution_count": 52,
     "metadata": {},
     "output_type": "execute_result"
    }
   ],
   "source": [
    "site_list.loc[site_list['Site Name'] == 'Kyoto']"
   ]
  },
  {
   "cell_type": "code",
   "execution_count": 56,
   "metadata": {},
   "outputs": [
    {
     "data": {
      "text/plain": [
       "(174, 2)"
      ]
     },
     "execution_count": 56,
     "metadata": {},
     "output_type": "execute_result"
    }
   ],
   "source": [
    "site_list.shape"
   ]
  },
  {
   "cell_type": "code",
   "execution_count": null,
   "metadata": {},
   "outputs": [],
   "source": []
  }
 ],
 "metadata": {
  "kernelspec": {
   "display_name": "Python 3",
   "language": "python",
   "name": "python3"
  },
  "language_info": {
   "codemirror_mode": {
    "name": "ipython",
    "version": 3
   },
   "file_extension": ".py",
   "mimetype": "text/x-python",
   "name": "python",
   "nbconvert_exporter": "python",
   "pygments_lexer": "ipython3",
   "version": "3.8.5"
  }
 },
 "nbformat": 4,
 "nbformat_minor": 4
}
