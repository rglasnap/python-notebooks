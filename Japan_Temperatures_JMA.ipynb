{
 "cells": [
  {
   "cell_type": "markdown",
   "metadata": {
    "nteract": {
     "transient": {
      "deleting": false
     }
    }
   },
   "source": [
    "# Japanese Temperature Data Collection\n",
    "This is a companion to the other Japanese Meteorological Agency notebook on Sakura Data processing.\n",
    "\n",
    "\n",
    "Sources:\n",
    "* https://www.data.jma.go.jp/obd/stats/data/mdrr/man/kansoku_gaiyou.html  (smater.index file)\n",
    "* https://www.data.jma.go.jp/gmd/risk/obsdl/index.php Temperature Request site\n",
    "\n",
    "Notes:\n",
    "I'm really hoping this smaster file has the data I need. Well not so much the data as it is the station identifiers that get used in the POST requests to the other link.\n",
    "\n",
    "Notes2:\n",
    "This data file has the data I need! HOORAY! Well at least part of it, the station numbers match up with the last 3 digits of the requests I manually put in for Kyoto, Nara, and Osaka"
   ]
  },
  {
   "cell_type": "code",
   "execution_count": 1,
   "metadata": {
    "nteract": {
     "transient": {
      "deleting": false
     }
    }
   },
   "outputs": [],
   "source": [
    "import sys\n",
    "import pandas as pd\n",
    "import numpy as np\n",
    "import requests as req\n",
    "from matplotlib import pyplot as plt\n",
    "from bs4 import BeautifulSoup\n",
    "from io import StringIO"
   ]
  },
  {
   "cell_type": "code",
   "execution_count": 2,
   "metadata": {
    "nteract": {
     "transient": {
      "deleting": false
     }
    }
   },
   "outputs": [
    {
     "name": "stdout",
     "output_type": "stream",
     "text": [
      "401 18343       ﾜﾂｶﾅｲ   WAKKANAI    4524901414070        32    11961010119651231　　　　　　　　　　　　　　　　　　　                            \n",
      "\n",
      "401 18143       ﾜﾂｶﾅｲ   WAKKANAI    4524901414070        32    11966010119661231　　　　　　　　　　　　　　　　　　　                            \n",
      "\n",
      "401 18573       ﾜﾂｶﾅｲ   WAKKANAI    4524901414070        32    11967010119671231　　　　　　　　　　　　　　　　　　　                            \n",
      "\n",
      "401 18578       ﾜﾂｶﾅｲ   WAKKANAI    4524901414070        32    11968010119681231　　　　　　　　　　　　　　　　　　　                            \n",
      "\n",
      "401 18578       ﾜﾂｶﾅｲ   WAKKANAI    4524901414070       109    11969010119701231　　　　　　　　　　　　　　　　　　　                            \n",
      "\n"
     ]
    }
   ],
   "source": [
    "with open('Japan Temp Data/smaster.index', encoding='shift_jis') as file:\n",
    "    for i in range(5):\n",
    "        line = file.readline()\n",
    "        print(line)\n"
   ]
  },
  {
   "cell_type": "code",
   "execution_count": 3,
   "metadata": {
    "nteract": {
     "transient": {
      "deleting": false
     }
    }
   },
   "outputs": [],
   "source": [
    "col_widths = [3 ,1 ,1 ,1 ,1 ,1 ,1 ,1 ,1 ,1 ,2 ,1 ,1 ,8 ,12 ,6 ,7,5 ,5 ,3 ,1 ,1 ,8 ,8 ,12 ,18 ,8 ,5 ,12 ,1 ,1 ,1 ,1 ,1 ,1 ,5]\n",
    "\n",
    "with open('Japan Temp Data/smaster.index', encoding='shift_jis') as file:\n",
    "    smaster = pd.read_fwf(file,header=None,widths=col_widths,dtype='object')"
   ]
  },
  {
   "cell_type": "code",
   "execution_count": 4,
   "metadata": {
    "nteract": {
     "transient": {
      "deleting": false
     }
    }
   },
   "outputs": [
    {
     "data": {
      "text/plain": [
       "array(['412', 'SAPPORO'], dtype=object)"
      ]
     },
     "execution_count": 4,
     "metadata": {},
     "output_type": "execute_result"
    }
   ],
   "source": [
    "np.unique(smaster.loc[smaster[14] == 'SAPPORO'][[0,14]])"
   ]
  },
  {
   "cell_type": "code",
   "execution_count": 5,
   "metadata": {
    "nteract": {
     "transient": {
      "deleting": false
     }
    }
   },
   "outputs": [],
   "source": [
    "site_list = smaster[[0,14]].drop_duplicates()\n",
    "site_list.rename(columns={0:'Site Id',14:'Site Name'},inplace=True)\n",
    "\n",
    "site_list['Site Id'] = 's47' + site_list['Site Id']\n",
    "site_list['Site Name'] = site_list['Site Name'].str.title()"
   ]
  },
  {
   "cell_type": "code",
   "execution_count": 6,
   "metadata": {
    "nteract": {
     "transient": {
      "deleting": false
     }
    }
   },
   "outputs": [
    {
     "data": {
      "text/html": [
       "<div>\n",
       "<style scoped>\n",
       "    .dataframe tbody tr th:only-of-type {\n",
       "        vertical-align: middle;\n",
       "    }\n",
       "\n",
       "    .dataframe tbody tr th {\n",
       "        vertical-align: top;\n",
       "    }\n",
       "\n",
       "    .dataframe thead th {\n",
       "        text-align: right;\n",
       "    }\n",
       "</style>\n",
       "<table border=\"1\" class=\"dataframe\">\n",
       "  <thead>\n",
       "    <tr style=\"text-align: right;\">\n",
       "      <th></th>\n",
       "      <th>Site Id</th>\n",
       "      <th>Site Name</th>\n",
       "    </tr>\n",
       "  </thead>\n",
       "  <tbody>\n",
       "    <tr>\n",
       "      <th>1845</th>\n",
       "      <td>s47759</td>\n",
       "      <td>Kyoto</td>\n",
       "    </tr>\n",
       "  </tbody>\n",
       "</table>\n",
       "</div>"
      ],
      "text/plain": [
       "     Site Id Site Name\n",
       "1845  s47759     Kyoto"
      ]
     },
     "execution_count": 6,
     "metadata": {},
     "output_type": "execute_result"
    }
   ],
   "source": [
    "site_list.loc[site_list['Site Name'] == 'Kyoto']"
   ]
  },
  {
   "cell_type": "code",
   "execution_count": 7,
   "metadata": {
    "nteract": {
     "transient": {
      "deleting": false
     }
    }
   },
   "outputs": [
    {
     "data": {
      "text/plain": [
       "'s47759'"
      ]
     },
     "execution_count": 7,
     "metadata": {},
     "output_type": "execute_result"
    }
   ],
   "source": [
    "site_list.loc[site_list['Site Name'] == 'Kyoto','Site Id'].values[0]"
   ]
  },
  {
   "cell_type": "markdown",
   "metadata": {},
   "source": [
    "IDEA: get to the index.php first, see if I get a cookie that ends in CORS, and use that cookie to make the post request\n",
    "\n",
    "For posterity\n",
    "\n",
    "JQuery that selects Osaka once the prefecture is loaded.\n",
    "\n",
    "$(\"div.station.stmark[title*='大阪']\").last()[0].click()"
   ]
  },
  {
   "cell_type": "code",
   "execution_count": 79,
   "metadata": {
    "nteract": {
     "transient": {
      "deleting": false
     }
    }
   },
   "outputs": [],
   "source": [
    "def download_site_data(station_number, start_year):\n",
    "    \"\"\"Downloads a CSV for a particular site from the Japanese Meteorological Agency\"\"\"\n",
    "\n",
    "    originating_url = 'https://www.data.jma.go.jp/gmd/risk/obsdl/index.php'\n",
    "    data_url = 'https://www.data.jma.go.jp/gmd/risk/obsdl/show/table'\n",
    "\n",
    "    sess = req.session()\n",
    "\n",
    "    orig_page = sess.get(originating_url)\n",
    "    orig_soup = BeautifulSoup(orig_page.content)\n",
    "    \n",
    "    post_data = {'stationNumList': f'[\"{station_number}\"]',\n",
    "    'aggrgPeriod': 1,\n",
    "    'elementNumList': '[[\"201\",\"\"]]',\n",
    "    'interAnnualFlag': 1,\n",
    "    'ymdList': f'[\"{start_year}\",\"{start_year+1}\",\"1\",\"1\",\"1\",\"1\"]',\n",
    "    'optionNumList': '[]',\n",
    "    'downloadFlag': True,\n",
    "    'rmkFlag': 1,\n",
    "    'disconnectFlag': 1,\n",
    "    'youbiFlag': 0,\n",
    "    'fukenFlag': 0,\n",
    "    'kijiFlag': 0,\n",
    "    'huukouFlag': 0,\n",
    "    'csvFlag': 1,\n",
    "    'jikantaiFlag': 0,\n",
    "    'jikantaiList': '[]',\n",
    "    'ymdLiteral': 1,\n",
    "    'PHPSESSID':  orig_soup.select('#sid')[0]['value'] }\n",
    "\n",
    "    response = sess.post(data_url,data=post_data)\n",
    "    \n",
    "    if \"comma\" in response.headers['Content-Type']:\n",
    "        ## We got useful stuff\n",
    "        site_df = pd.read_csv(StringIO(response.text), skiprows=5,\n",
    "                              names=['Date','Avg Temp', 'Data Quality tn', 'Data Homogeneity tn'],\n",
    "                              parse_dates=[0])\n",
    "        site_df.set_index('Date',inplace=True)\n",
    "        return site_df\n",
    "    elif \"html\" in response.headers['Content-Type']:\n",
    "        ## We got an error page. This can be expected if the site number is incorrect. Or somethign else in the POST\n",
    "        ##  request is malformed.\n",
    "        print(\"HTML Error Page Receieved\")\n",
    "        return\n",
    "    else:\n",
    "        ## Here there be dragons\n",
    "        print(f\"Unepxeced Content Type Received: {response.headers['Content-Type']}\")\n",
    "        return\n"
   ]
  },
  {
   "cell_type": "code",
   "execution_count": 80,
   "metadata": {},
   "outputs": [],
   "source": [
    "kyoto_2020 = download_site_data('s47759', 2020)\n",
    "kyoto_2019 = download_site_data('s47759', 2019)\n"
   ]
  },
  {
   "cell_type": "code",
   "execution_count": 96,
   "metadata": {},
   "outputs": [],
   "source": [
    "kyoto = pd.concat([kyoto_2019,kyoto_2020])\n",
    "kyoto = kyoto[~kyoto.index.duplicated()]"
   ]
  },
  {
   "cell_type": "code",
   "execution_count": 97,
   "metadata": {},
   "outputs": [
    {
     "data": {
      "text/plain": [
       "<AxesSubplot:title={'center':'Daily Temperatures in Kyoto'}, xlabel='Date', ylabel='Aveage Temperate in C'>"
      ]
     },
     "execution_count": 97,
     "metadata": {},
     "output_type": "execute_result"
    },
    {
     "data": {
      "image/png": "[encoded data removed]",
      "text/plain": [
       "<Figure size 432x288 with 1 Axes>"
      ]
     },
     "metadata": {
      "needs_background": "light"
     },
     "output_type": "display_data"
    }
   ],
   "source": [
    "kyoto.plot(y='Avg Temp',ylabel='Aveage Temperate in C',title='Daily Temperatures in Kyoto')"
   ]
  },
  {
   "cell_type": "code",
   "execution_count": 11,
   "metadata": {
    "nteract": {
     "transient": {
      "deleting": false
     }
    }
   },
   "outputs": [],
   "source": [
    "# Code for Posterity\n",
    "headers = {\n",
    "    'Accept': 'text/html,application/xhtml+xml,application/xml;q=0.9,image/avif,image/webp,image/apng,*/*;q=0.8,application/signed-exchange;v=b3;q=0.9',\n",
    "    'Accept-Encoding': 'gzip, deflate, br',\n",
    "    'Content-Type': \"application/x-www-form/urlencoded\",\n",
    "    'Host': 'www.data.jma.go.jp',\n",
    "    'Origin': 'https://www.data.jma.go.jp',\n",
    "    'Referer': 'https://www.data.jma.go.jp/gmd/risk/obsdl/index.php'}"
   ]
  },
  {
   "cell_type": "code",
   "execution_count": null,
   "metadata": {},
   "outputs": [],
   "source": []
  }
 ],
 "metadata": {
  "kernelspec": {
   "display_name": "Python 3",
   "language": "python",
   "name": "python3"
  },
  "language_info": {
   "codemirror_mode": {
    "name": "ipython",
    "version": 3
   },
   "file_extension": ".py",
   "mimetype": "text/x-python",
   "name": "python",
   "nbconvert_exporter": "python",
   "pygments_lexer": "ipython3",
   "version": "3.8.5"
  }
 },
 "nbformat": 4,
 "nbformat_minor": 4
}
