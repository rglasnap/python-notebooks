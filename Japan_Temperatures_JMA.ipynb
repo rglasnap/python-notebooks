{
 "cells": [
  {
   "cell_type": "markdown",
   "metadata": {
    "nteract": {
     "transient": {
      "deleting": false
     }
    }
   },
   "source": [
    "# Japanese Temperature Data Collection\n",
    "This is a companion to the other Japanese Meteorological Agency notebook on Sakura Data processing.\n",
    "\n",
    "\n",
    "Sources:\n",
    "* https://www.data.jma.go.jp/obd/stats/data/mdrr/man/kansoku_gaiyou.html  (smater.index file)\n",
    "* https://www.data.jma.go.jp/gmd/risk/obsdl/index.php Temperature Request site\n",
    "\n",
    "\n",
    "The Temperature Request site has a bar at the top indicating how full the data request is. Through some quick experimentation I found that around 25 years worth of temperature readings from a single city is about the max we can get (that's an easy number to work with). \n",
    "\n",
    "Notes:\n",
    "I'm really hoping this smaster file has the data I need. Well not so much the data as it is the station identifiers that get used in the POST requests to the other link.\n",
    "\n",
    "Notes2:\n",
    "This data file has the data I need! HOORAY! Well at least part of it, the station numbers match up with the last 3 digits of the requests I manually put in for Kyoto, Nara, and Osaka"
   ]
  },
  {
   "cell_type": "code",
   "execution_count": 14,
   "metadata": {
    "nteract": {
     "transient": {
      "deleting": false
     }
    }
   },
   "outputs": [],
   "source": [
    "import sys\n",
    "import pandas as pd\n",
    "import numpy as np\n",
    "import requests as req\n",
    "from time import sleep\n",
    "from matplotlib import pyplot as plt\n",
    "from bs4 import BeautifulSoup\n",
    "from io import StringIO\n",
    "from IPython.core.display import display, HTML"
   ]
  },
  {
   "cell_type": "code",
   "execution_count": 2,
   "metadata": {
    "nteract": {
     "transient": {
      "deleting": false
     }
    }
   },
   "outputs": [
    {
     "name": "stdout",
     "output_type": "stream",
     "text": [
      "401 18343       ﾜﾂｶﾅｲ   WAKKANAI    4524901414070        32    11961010119651231　　　　　　　　　　　　　　　　　　　                            \n",
      "\n",
      "401 18143       ﾜﾂｶﾅｲ   WAKKANAI    4524901414070        32    11966010119661231　　　　　　　　　　　　　　　　　　　                            \n",
      "\n",
      "401 18573       ﾜﾂｶﾅｲ   WAKKANAI    4524901414070        32    11967010119671231　　　　　　　　　　　　　　　　　　　                            \n",
      "\n",
      "401 18578       ﾜﾂｶﾅｲ   WAKKANAI    4524901414070        32    11968010119681231　　　　　　　　　　　　　　　　　　　                            \n",
      "\n",
      "401 18578       ﾜﾂｶﾅｲ   WAKKANAI    4524901414070       109    11969010119701231　　　　　　　　　　　　　　　　　　　                            \n",
      "\n"
     ]
    }
   ],
   "source": [
    "with open('Japan Temp Data/smaster.index', encoding='shift_jis') as file:\n",
    "    for i in range(5):\n",
    "        line = file.readline()\n",
    "        print(line)\n"
   ]
  },
  {
   "cell_type": "code",
   "execution_count": 3,
   "metadata": {
    "nteract": {
     "transient": {
      "deleting": false
     }
    }
   },
   "outputs": [],
   "source": [
    "col_widths = [3 ,1 ,1 ,1 ,1 ,1 ,1 ,1 ,1 ,1 ,2 ,1 ,1 ,8 ,12 ,6 ,7,5 ,5 ,3 ,1 ,1 ,8 ,8 ,12 ,18 ,8 ,5 ,12 ,1 ,1 ,1 ,1 ,1 ,1 ,5]\n",
    "\n",
    "with open('Japan Temp Data/smaster.index', encoding='shift_jis') as file:\n",
    "    smaster = pd.read_fwf(file,header=None,widths=col_widths,dtype='object')\n",
    "\n",
    "site_list = smaster[[0,14]].drop_duplicates()\n",
    "site_list.rename(columns={0:'Site Id',14:'Site Name'},inplace=True)\n",
    "\n",
    "site_list['Site Id'] = 's47' + site_list['Site Id']\n",
    "site_list['Site Name'] = site_list['Site Name'].str.title()\n",
    "\n",
    "#site_list.loc[site_list['Site Name'] == 'Kyoto']\n",
    "\n",
    "#site_list.loc[site_list['Site Name'] == 'Kyoto','Site Id'].values[0]\n",
    "#site_list.set_index('Site Name')\n",
    "\n",
    "site_list.set_index('Site Name', inplace=True)"
   ]
  },
  {
   "cell_type": "code",
   "execution_count": 4,
   "metadata": {},
   "outputs": [
    {
     "data": {
      "text/plain": [
       "Site Id    s47772\n",
       "Name: Osaka, dtype: object"
      ]
     },
     "execution_count": 4,
     "metadata": {},
     "output_type": "execute_result"
    }
   ],
   "source": [
    "site_list.loc['Osaka']"
   ]
  },
  {
   "cell_type": "markdown",
   "metadata": {},
   "source": [
    "IDEA: get to the index.php first, see if I get a cookie that ends in CORS, and use that cookie to make the post request\n",
    "\n",
    "For posterity\n",
    "\n",
    "JQuery that selects Osaka once the prefecture is loaded.\n",
    "\n",
    "$(\"div.station.stmark[title*='大阪']\").last()[0].click()\n",
    "\n",
    "Selector for error messag with tadaima (and data issue)\n",
    "\n",
    "#ncontents2 > p\n",
    "\n",
    "#ncontents2 > p\n"
   ]
  },
  {
   "cell_type": "code",
   "execution_count": 56,
   "metadata": {
    "nteract": {
     "transient": {
      "deleting": false
     }
    }
   },
   "outputs": [],
   "source": [
    "def download_site_data(station_number, start_year, end_year, debug=False):\n",
    "    \"\"\"Downloads a CSV for a particular site from the Japanese Meteorological Agency\"\"\"\n",
    "\n",
    "    originating_url = 'https://www.data.jma.go.jp/gmd/risk/obsdl/index.php'\n",
    "    data_url = 'https://www.data.jma.go.jp/gmd/risk/obsdl/show/table'\n",
    "\n",
    "    sess = req.session()\n",
    "\n",
    "    orig_page = sess.get(originating_url)\n",
    "    orig_soup = BeautifulSoup(orig_page.content)\n",
    "    \n",
    "    post_data = {'stationNumList': f'[\"{station_number}\"]',\n",
    "    'aggrgPeriod': 1,\n",
    "    'elementNumList': '[[\"201\",\"\"]]',\n",
    "    'interAnnualFlag': 1,\n",
    "    'ymdList': f'[\"{start_year}\",\"{end_year}\",\"1\",\"1\",\"1\",\"1\"]',\n",
    "    'optionNumList': '[]',\n",
    "    'downloadFlag': True,\n",
    "    'rmkFlag': 1,\n",
    "    'disconnectFlag': 1,\n",
    "    'youbiFlag': 0,\n",
    "    'fukenFlag': 0,\n",
    "    'kijiFlag': 0,\n",
    "    'huukouFlag': 0,\n",
    "    'csvFlag': 1,\n",
    "    'jikantaiFlag': 0,\n",
    "    'jikantaiList': '[]',\n",
    "    'ymdLiteral': 1,\n",
    "    'PHPSESSID':  orig_soup.select('#sid')[0]['value'] }\n",
    "\n",
    "    response = sess.post(data_url,data=post_data)\n",
    "    \n",
    "    if \"comma\" in response.headers['Content-Type']:\n",
    "        ## We got useful stuff\n",
    "        csv_headers = StringIO(BeautifulSoup(response.content).p.text).readlines()[:5]\n",
    "        if debug:\n",
    "            print(csv_headers)\n",
    "        # This should be the name of the City the data was taken in. This is to confirm that our station umbers correspond correctly.\n",
    "        site_name = csv_headers[2].split(',')[1]\n",
    "        \n",
    "        site_df = pd.read_csv(StringIO(response.text), skiprows=5,\n",
    "                              names=['Date',site_name+' Avg Temp', 'Data Quality tn', 'Data Homogeneity tn'],\n",
    "                              parse_dates=[0])\n",
    "        site_df.set_index('Date',inplace=True)\n",
    "        return site_df\n",
    "    elif \"html\" in response.headers['Content-Type']:\n",
    "        ## We got an error page. This can be expected if the site number is incorrect. Or somethign else in the POST\n",
    "        ##  request is malformed.\n",
    "        error_soup = BeautifulSoup(response.content)\n",
    "        print(\"HTML Error Page Receieved: \" + error_soup.find(id='ncontents2').p.text)\n",
    "        return\n",
    "    else:\n",
    "        ## Here there be dragons\n",
    "        print(f\"Unepxeced Content Type Received: {response.headers['Content-Type']}\")\n",
    "        return\n",
    "\n",
    "def batch_site_download(station_number, start_year = 1955, end_year = 2021, debug=False):\n",
    "    max_years = 25\n",
    "    \n",
    "    site_df = pd.DataFrame()\n",
    "    for year in range(start_year, end_year, max_years):\n",
    "        cur_site_df = download_site_data(station_number,year, year+max_years if year+max_years<=end_year else end_year, debug)\n",
    "        \n",
    "        site_df = pd.concat([site_df,cur_site_df])\n",
    "        site_df = site_df[~site_df.index.duplicated()]\n",
    "        sleep(5)\n",
    "        \n",
    "    return(site_df)"
   ]
  },
  {
   "cell_type": "code",
   "execution_count": 54,
   "metadata": {},
   "outputs": [],
   "source": [
    "minilist = ['Kyoto', 'Tokyo', 'Osaka', 'Nara', 'Sapporo']\n",
    "\n",
    "def download_all_data():\n",
    "    city_dicts = {}\n",
    "    for city in site_list.index:\n",
    "        city_dicts[city] = batch_site_download(site_list.loc[city,'Site Id'],debug=True)\n",
    "        print(\"Saving CSV\", flush=True)\n",
    "        city_dicts[city].to_csv('Temp Data/'+city+'.csv')\n",
    "        print(\"Sleeping 70s to prevent overloading server\")\n",
    "        for i in range(70,0,-1):\n",
    "            print(f\"{i}\", end=\"\\r\", flush=True)\n",
    "            sleep(1)"
   ]
  },
  {
   "cell_type": "code",
   "execution_count": 57,
   "metadata": {},
   "outputs": [
    {
     "name": "stdout",
     "output_type": "stream",
     "text": [
      "['ダウンロードした時刻：2021/08/06 04:21:41\\r\\n', '\\r\\n', ',稚内,稚内,稚内\\r\\n', '年月日,平均気温(℃),平均気温(℃),平均気温(℃)\\r\\n', ',,品質情報,均質番号\\r\\n']\n",
      "['ダウンロードした時刻：2021/08/06 04:21:49\\r\\n', '\\r\\n', ',稚内,稚内,稚内\\r\\n', '年月日,平均気温(℃),平均気温(℃),平均気温(℃)\\r\\n', ',,品質情報,均質番号\\r\\n']\n",
      "['ダウンロードした時刻：2021/08/06 04:21:56\\r\\n', '\\r\\n', ',稚内,稚内,稚内\\r\\n', '年月日,平均気温(℃),平均気温(℃),平均気温(℃)\\r\\n', ',,品質情報,均質番号\\r\\n']\n",
      "Saving CSV\n",
      "Sleeping 70s to prevent overloading server\n",
      "['ダウンロードした時刻：2021/08/06 04:23:14\\r\\n', '\\r\\n', ',北見枝幸,北見枝幸,北見枝幸\\r\\n', '年月日,平均気温(℃),平均気温(℃),平均気温(℃)\\r\\n', ',,品質情報,均質番号\\r\\n']\n",
      "['ダウンロードした時刻：2021/08/06 04:23:24\\r\\n', '\\r\\n', ',北見枝幸,北見枝幸,北見枝幸\\r\\n', '年月日,平均気温(℃),平均気温(℃),平均気温(℃)\\r\\n', ',,品質情報,均質番号\\r\\n']\n",
      "HTML Error Page Receieved: データの取得に失敗しました。再度実行してください。\n",
      "Saving CSV\n",
      "Sleeping 70s to prevent overloading server\n",
      "['ダウンロードした時刻：2021/08/06 04:24:49\\r\\n', '\\r\\n', ',羽幌,羽幌,羽幌\\r\\n', '年月日,平均気温(℃),平均気温(℃),平均気温(℃)\\r\\n', ',,品質情報,均質番号\\r\\n']\n",
      "['ダウンロードした時刻：2021/08/06 04:24:57\\r\\n', '\\r\\n', ',羽幌,羽幌,羽幌\\r\\n', '年月日,平均気温(℃),平均気温(℃),平均気温(℃)\\r\\n', ',,品質情報,均質番号\\r\\n']\n",
      "['ダウンロードした時刻：2021/08/06 04:25:05\\r\\n', '\\r\\n', ',羽幌,羽幌,羽幌\\r\\n', '年月日,平均気温(℃),平均気温(℃),平均気温(℃)\\r\\n', ',,品質情報,均質番号\\r\\n']\n",
      "Saving CSV\n",
      "Sleeping 70s to prevent overloading server\n",
      "['ダウンロードした時刻：2021/08/06 04:26:24\\r\\n', '\\r\\n', ',雄武,雄武,雄武\\r\\n', '年月日,平均気温(℃),平均気温(℃),平均気温(℃)\\r\\n', ',,品質情報,均質番号\\r\\n']\n",
      "['ダウンロードした時刻：2021/08/06 04:26:32\\r\\n', '\\r\\n', ',雄武,雄武,雄武\\r\\n', '年月日,平均気温(℃),平均気温(℃),平均気温(℃)\\r\\n', ',,品質情報,均質番号\\r\\n']\n",
      "['ダウンロードした時刻：2021/08/06 04:26:39\\r\\n', '\\r\\n', ',雄武,雄武,雄武\\r\\n', '年月日,平均気温(℃),平均気温(℃),平均気温(℃)\\r\\n', ',,品質情報,均質番号\\r\\n']\n",
      "Saving CSV\n",
      "Sleeping 70s to prevent overloading server\n",
      "['ダウンロードした時刻：2021/08/06 04:27:57\\r\\n', '\\r\\n', ',留萌,留萌,留萌\\r\\n', '年月日,平均気温(℃),平均気温(℃),平均気温(℃)\\r\\n', ',,品質情報,均質番号\\r\\n']\n",
      "['ダウンロードした時刻：2021/08/06 04:28:06\\r\\n', '\\r\\n', ',留萌,留萌,留萌\\r\\n', '年月日,平均気温(℃),平均気温(℃),平均気温(℃)\\r\\n', ',,品質情報,均質番号\\r\\n']\n",
      "['ダウンロードした時刻：2021/08/06 04:28:15\\r\\n', '\\r\\n', ',留萌,留萌,留萌\\r\\n', '年月日,平均気温(℃),平均気温(℃),平均気温(℃)\\r\\n', ',,品質情報,均質番号\\r\\n']\n",
      "Saving CSV\n",
      "Sleeping 70s to prevent overloading server\n",
      "68\r"
     ]
    },
    {
     "ename": "KeyboardInterrupt",
     "evalue": "",
     "output_type": "error",
     "traceback": [
      "\u001b[0;31m---------------------------------------------------------------------------\u001b[0m",
      "\u001b[0;31mKeyboardInterrupt\u001b[0m                         Traceback (most recent call last)",
      "\u001b[0;32m<ipython-input-57-020c342c4eec>\u001b[0m in \u001b[0;36m<module>\u001b[0;34m\u001b[0m\n\u001b[0;32m----> 1\u001b[0;31m \u001b[0mdownload_all_data\u001b[0m\u001b[0;34m(\u001b[0m\u001b[0;34m)\u001b[0m\u001b[0;34m\u001b[0m\u001b[0;34m\u001b[0m\u001b[0m\n\u001b[0m",
      "\u001b[0;32m<ipython-input-54-bec6cf1e6c3c>\u001b[0m in \u001b[0;36mdownload_all_data\u001b[0;34m()\u001b[0m\n\u001b[1;32m     10\u001b[0m         \u001b[0;32mfor\u001b[0m \u001b[0mi\u001b[0m \u001b[0;32min\u001b[0m \u001b[0mrange\u001b[0m\u001b[0;34m(\u001b[0m\u001b[0;36m70\u001b[0m\u001b[0;34m,\u001b[0m\u001b[0;36m0\u001b[0m\u001b[0;34m,\u001b[0m\u001b[0;34m-\u001b[0m\u001b[0;36m1\u001b[0m\u001b[0;34m)\u001b[0m\u001b[0;34m:\u001b[0m\u001b[0;34m\u001b[0m\u001b[0;34m\u001b[0m\u001b[0m\n\u001b[1;32m     11\u001b[0m             \u001b[0mprint\u001b[0m\u001b[0;34m(\u001b[0m\u001b[0;34mf\"{i}\"\u001b[0m\u001b[0;34m,\u001b[0m \u001b[0mend\u001b[0m\u001b[0;34m=\u001b[0m\u001b[0;34m\"\\r\"\u001b[0m\u001b[0;34m,\u001b[0m \u001b[0mflush\u001b[0m\u001b[0;34m=\u001b[0m\u001b[0;32mTrue\u001b[0m\u001b[0;34m)\u001b[0m\u001b[0;34m\u001b[0m\u001b[0;34m\u001b[0m\u001b[0m\n\u001b[0;32m---> 12\u001b[0;31m             \u001b[0msleep\u001b[0m\u001b[0;34m(\u001b[0m\u001b[0;36m1\u001b[0m\u001b[0;34m)\u001b[0m\u001b[0;34m\u001b[0m\u001b[0;34m\u001b[0m\u001b[0m\n\u001b[0m",
      "\u001b[0;31mKeyboardInterrupt\u001b[0m: "
     ]
    }
   ],
   "source": [
    "download_all_data()"
   ]
  },
  {
   "cell_type": "code",
   "execution_count": 41,
   "metadata": {},
   "outputs": [
    {
     "name": "stdout",
     "output_type": "stream",
     "text": [
      "Wakkanai\n",
      "Kitamiesashi\n",
      "Haboro\n",
      "Omu\n",
      "Rumoi\n"
     ]
    }
   ],
   "source": [
    "for city in site_list[:5].index:\n",
    "    print(city)"
   ]
  },
  {
   "cell_type": "code",
   "execution_count": 70,
   "metadata": {},
   "outputs": [
    {
     "name": "stdout",
     "output_type": "stream",
     "text": [
      "HTML Error Page Receieved\n",
      "HTML Error Page Receieved\n",
      "HTML Error Page Receieved\n"
     ]
    },
    {
     "data": {
      "text/html": [
       "<div>\n",
       "<style scoped>\n",
       "    .dataframe tbody tr th:only-of-type {\n",
       "        vertical-align: middle;\n",
       "    }\n",
       "\n",
       "    .dataframe tbody tr th {\n",
       "        vertical-align: top;\n",
       "    }\n",
       "\n",
       "    .dataframe thead th {\n",
       "        text-align: right;\n",
       "    }\n",
       "</style>\n",
       "<table border=\"1\" class=\"dataframe\">\n",
       "  <thead>\n",
       "    <tr style=\"text-align: right;\">\n",
       "      <th></th>\n",
       "    </tr>\n",
       "  </thead>\n",
       "  <tbody>\n",
       "  </tbody>\n",
       "</table>\n",
       "</div>"
      ],
      "text/plain": [
       "Empty DataFrame\n",
       "Columns: []\n",
       "Index: []"
      ]
     },
     "execution_count": 70,
     "metadata": {},
     "output_type": "execute_result"
    }
   ],
   "source": [
    "batch_site_download('s47759',debug=True)\n",
    "\n",
    "#kyoto_2020 = download_site_data('s47412', 2020, 2021, True)\n",
    "#kyoto_2019 = download_site_data('s47759', 2019, 2021)\n",
    "\n",
    "#kyoto_2019.columns"
   ]
  },
  {
   "cell_type": "code",
   "execution_count": 8,
   "metadata": {},
   "outputs": [],
   "source": [
    "kyoto_from95 = download_site_data('s47759', 1995, 2021)"
   ]
  },
  {
   "cell_type": "code",
   "execution_count": 33,
   "metadata": {},
   "outputs": [
    {
     "data": {
      "text/plain": [
       "<bound method NDFrame.head of             京都 Avg Temp  Data Quality tn  Data Homogeneity tn\n",
       "Date                                                         \n",
       "2019-01-01          5.2                8                    1\n",
       "2019-01-02          5.1                8                    1\n",
       "2019-01-03          4.2                8                    1\n",
       "2019-01-04          5.2                8                    1\n",
       "2019-01-05          7.1                8                    1\n",
       "...                 ...              ...                  ...\n",
       "2020-12-28          8.4                8                    1\n",
       "2020-12-29          7.8                8                    1\n",
       "2020-12-30          6.9                8                    1\n",
       "2020-12-31          2.1                8                    1\n",
       "2021-01-01          2.1                8                    1\n",
       "\n",
       "[732 rows x 3 columns]>"
      ]
     },
     "execution_count": 33,
     "metadata": {},
     "output_type": "execute_result"
    }
   ],
   "source": [
    "kyoto = pd.concat([kyoto_2019,kyoto_2020, pd.DataFrame()])\n",
    "kyoto = kyoto[~kyoto.index.duplicated()]\n",
    "\n",
    "kyoto.head"
   ]
  },
  {
   "cell_type": "code",
   "execution_count": 12,
   "metadata": {},
   "outputs": [
    {
     "data": {
      "text/plain": [
       "<AxesSubplot:title={'center':'Daily Temperatures in Kyoto'}, xlabel='Date', ylabel='Aveage Temperate in C'>"
      ]
     },
     "execution_count": 12,
     "metadata": {},
     "output_type": "execute_result"
    },
    {
     "name": "stderr",
     "output_type": "stream",
     "text": [
      "/home/ryan/anaconda3/envs/mlenv/lib/python3.8/site-packages/matplotlib/backends/backend_agg.py:238: RuntimeWarning: Glyph 20140 missing from current font.\n",
      "  font.set_text(s, 0.0, flags=flags)\n",
      "/home/ryan/anaconda3/envs/mlenv/lib/python3.8/site-packages/matplotlib/backends/backend_agg.py:238: RuntimeWarning: Glyph 37117 missing from current font.\n",
      "  font.set_text(s, 0.0, flags=flags)\n",
      "/home/ryan/anaconda3/envs/mlenv/lib/python3.8/site-packages/matplotlib/backends/backend_agg.py:201: RuntimeWarning: Glyph 20140 missing from current font.\n",
      "  font.set_text(s, 0, flags=flags)\n",
      "/home/ryan/anaconda3/envs/mlenv/lib/python3.8/site-packages/matplotlib/backends/backend_agg.py:201: RuntimeWarning: Glyph 37117 missing from current font.\n",
      "  font.set_text(s, 0, flags=flags)\n"
     ]
    },
    {
     "data": {
      "image/png": "[encoded data removed]",
      "text/plain": [
       "<Figure size 432x288 with 1 Axes>"
      ]
     },
     "metadata": {
      "needs_background": "light"
     },
     "output_type": "display_data"
    },
    {
     "data": {
      "image/png": "[encoded data removed]",
      "text/plain": [
       "<Figure size 432x288 with 1 Axes>"
      ]
     },
     "metadata": {
      "needs_background": "light"
     },
     "output_type": "display_data"
    }
   ],
   "source": [
    "kyoto.plot(y='京都 Avg Temp',ylabel='Aveage Temperate in C',title='Daily Temperatures in Kyoto')\n",
    "\n",
    "kyoto_from95.plot(y='京都 Avg Temp',ylabel='Aveage Temperate in C',title='Daily Temperatures in Kyoto')"
   ]
  },
  {
   "cell_type": "code",
   "execution_count": 11,
   "metadata": {
    "nteract": {
     "transient": {
      "deleting": false
     }
    }
   },
   "outputs": [],
   "source": [
    "# Code for Posterity\n",
    "headers = {\n",
    "    'Accept': 'text/html,application/xhtml+xml,application/xml;q=0.9,image/avif,image/webp,image/apng,*/*;q=0.8,application/signed-exchange;v=b3;q=0.9',\n",
    "    'Accept-Encoding': 'gzip, deflate, br',\n",
    "    'Content-Type': \"application/x-www-form/urlencoded\",\n",
    "    'Host': 'www.data.jma.go.jp',\n",
    "    'Origin': 'https://www.data.jma.go.jp',\n",
    "    'Referer': 'https://www.data.jma.go.jp/gmd/risk/obsdl/index.php'}"
   ]
  },
  {
   "cell_type": "code",
   "execution_count": 15,
   "metadata": {},
   "outputs": [
    {
     "data": {
      "text/plain": [
       "2021"
      ]
     },
     "execution_count": 15,
     "metadata": {},
     "output_type": "execute_result"
    }
   ],
   "source": [
    "1995+26"
   ]
  },
  {
   "cell_type": "code",
   "execution_count": null,
   "metadata": {},
   "outputs": [],
   "source": []
  }
 ],
 "metadata": {
  "kernelspec": {
   "display_name": "Python 3",
   "language": "python",
   "name": "python3"
  },
  "language_info": {
   "codemirror_mode": {
    "name": "ipython",
    "version": 3
   },
   "file_extension": ".py",
   "mimetype": "text/x-python",
   "name": "python",
   "nbconvert_exporter": "python",
   "pygments_lexer": "ipython3",
   "version": "3.8.5"
  }
 },
 "nbformat": 4,
 "nbformat_minor": 4
}
