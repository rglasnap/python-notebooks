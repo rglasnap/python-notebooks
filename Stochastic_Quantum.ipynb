{
  "nbformat": 4,
  "nbformat_minor": 0,
  "metadata": {
    "colab": {
      "provenance": [],
      "authorship_tag": "ABX9TyPsQ92Tzf240RbYJdy63Jbv",
      "include_colab_link": true
    },
    "kernelspec": {
      "name": "python3",
      "display_name": "Python 3"
    },
    "language_info": {
      "name": "python"
    }
  },
  "cells": [
    {
      "cell_type": "markdown",
      "metadata": {
        "id": "view-in-github",
        "colab_type": "text"
      },
      "source": [
        "<a href=\"https://colab.research.google.com/github/rglasnap/python-notebooks/blob/master/Stochastic_Quantum.ipynb\" target=\"_parent\"><img src=\"https://colab.research.google.com/assets/colab-badge.svg\" alt=\"Open In Colab\"/></a>"
      ]
    },
    {
      "cell_type": "markdown",
      "source": [
        "# Intro\n",
        "I'm using this notebook to try to understand a talk by Jacob Barandes given on July 9th, 2024 (Brown IDEA Seminar). I'm trying to keep a record of my historical thoughts and false starts in chronological order for my own reference. The only things I plan on moving around are some generic code (like functions).\n",
        "\n",
        "The Sigma matrix below is one I slightly modified from his example non-markovian stochatic matrix. Slightly modified by reducing it down to a realizeable size. In the talk it was just unspecified by ellipses. So I cut it down to size and added a couple of my own to fill everything in.\n",
        "\n",
        "Ultimately I'm trying to wrap my mind around what divisible versus indivisible means. And using this as an example to understand that, and the structure/correspondence he's come up with."
      ],
      "metadata": {
        "id": "mCKOoThJH_yB"
      }
    },
    {
      "cell_type": "markdown",
      "source": [
        "#Imports and Functions"
      ],
      "metadata": {
        "id": "olA4QrFK6Nuc"
      }
    },
    {
      "cell_type": "code",
      "execution_count": null,
      "metadata": {
        "id": "4Plko-lZJSnb"
      },
      "outputs": [],
      "source": [
        "import pandas as pd\n",
        "import numpy as np\n",
        "import scipy as sp\n"
      ]
    },
    {
      "cell_type": "code",
      "source": [
        "## Sanity checks\n",
        "\n",
        "def UnitaryChecks(aMatrix):\n",
        "  print(\"Unitary checks for:\")\n",
        "  print(aMatrix)\n",
        "  print(\"Determinant: \",sp.linalg.det(aMatrix))\n",
        "  print(\"A * A^dagger\")\n",
        "  print(np.matmul(aMatrix,aMatrix.conj().T))\n",
        "\n",
        "  def U(t, Sigma): return sp.linalg.fractional_matrix_power(Sigma, t)\n",
        "## Lambda is defined by matrix elementwise.\n",
        "def Lambda(t, Sigma): return np.abs(U(t,Sigma))**2\n",
        "## Ut_prime is from t' to t\n",
        "def Ut_prime(t, t_prime, Sigma): return np.matmul(U(t, Sigma),U(t_prime,Sigma).conj().T)\n",
        "# Lambda_tprime is from t' to t\n",
        "def Lambda_tprime(t, t_prime, Sigma): return np.abs(Ut_prime(t,t_prime,Sigma))**2\n",
        "\n",
        "def CompositionCheck(t,t_prime,Sigma):\n",
        "  ## Composition and divisibility checks\n",
        "  print(\"This matrix should not be ~0. Because t' is NOT at a division point\")\n",
        "  print(Lambda(t,Sigma) - np.matmul(Lambda_tprime(t, t_prime, Sigma),Lambda(t_prime,Sigma)))\n",
        "\n",
        "def DivsibilityCheck(t,t_prime,Sigma):\n",
        "  print(\"This matrix should be ~0. Because t' IS at a division point\")\n",
        "  print(Lambda(t,Sigma) - np.matmul(Lambda_tprime(t, t_prime, Sigma),Lambda(t_prime,Sigma)))"
      ],
      "metadata": {
        "id": "7rA2ocpg6RJB"
      },
      "execution_count": null,
      "outputs": []
    },
    {
      "cell_type": "markdown",
      "source": [
        "# Initial thoughts and tests"
      ],
      "metadata": {
        "id": "FvIrDazI69G-"
      }
    },
    {
      "cell_type": "code",
      "source": [
        "Sigma = np.array([[0, 0, 0, 1, 0, 0, 0],\n",
        "                  [0, 0, 1, 0, 0, 0, 0],\n",
        "                  [0, 0, 0, 0, 0, 0, 1],\n",
        "                  [0, 0, 0, 0, 0, 1, 0],\n",
        "                  [0, 1, 0, 0, 0, 0, 0],\n",
        "                  [0, 0, 0, 0, 1, 0, 0],\n",
        "                  [1, 0, 0, 0, 0, 0, 0]])\n",
        "\n",
        "UnitaryChecks(Sigma)"
      ],
      "metadata": {
        "id": "XUlzfGYwJenn"
      },
      "execution_count": 10,
      "outputs": []
    },
    {
      "cell_type": "code",
      "source": [],
      "metadata": {
        "colab": {
          "base_uri": "https://localhost:8080/"
        },
        "id": "BE4wLpa6KLGy",
        "outputId": "3718d062-e212-4060-aad6-09d2e96594fb"
      },
      "execution_count": null,
      "outputs": [
        {
          "output_type": "stream",
          "name": "stdout",
          "text": [
            "Unitary checks for:\n",
            "[[0 0 0 1 0 0 0]\n",
            " [0 0 1 0 0 0 0]\n",
            " [0 0 0 0 0 0 1]\n",
            " [0 0 0 0 0 1 0]\n",
            " [0 1 0 0 0 0 0]\n",
            " [0 0 0 0 1 0 0]\n",
            " [1 0 0 0 0 0 0]]\n",
            "Determinant:  1.0\n",
            "A * A^dagger\n",
            "[[1 0 0 0 0 0 0]\n",
            " [0 1 0 0 0 0 0]\n",
            " [0 0 1 0 0 0 0]\n",
            " [0 0 0 1 0 0 0]\n",
            " [0 0 0 0 1 0 0]\n",
            " [0 0 0 0 0 1 0]\n",
            " [0 0 0 0 0 0 1]]\n"
          ]
        }
      ]
    },
    {
      "cell_type": "code",
      "source": [
        "CompositionCheck(4.0,1.5,Sigma)\n",
        "\n",
        "DivsibilityCheck(4.0,2.0,Sigma)\n",
        "\n",
        "\n"
      ],
      "metadata": {
        "colab": {
          "base_uri": "https://localhost:8080/"
        },
        "id": "wkZaQ9yZOl6O",
        "outputId": "b338dd86-5a73-45a3-e4aa-7cccf2623dd3"
      },
      "execution_count": null,
      "outputs": [
        {
          "output_type": "stream",
          "name": "stdout",
          "text": [
            "This matrix should not be ~0. Because t' is NOT at a division point\n",
            "[[-0.04294266  0.65306122 -0.21681392 -0.04294266 -0.21681392 -0.06677403\n",
            "  -0.06677403]\n",
            " [-0.21681392 -0.04294266 -0.04294266  0.65306122 -0.06677403 -0.21681392\n",
            "  -0.06677403]\n",
            " [-0.06677403 -0.06677403 -0.04294266 -0.21681392 -0.21681392  0.65306122\n",
            "  -0.04294266]\n",
            " [-0.06677403 -0.21681392  0.65306122 -0.04294266 -0.06677403 -0.04294266\n",
            "  -0.21681392]\n",
            " [ 0.65306122 -0.04294266 -0.06677403 -0.21681392 -0.04294266 -0.06677403\n",
            "  -0.21681392]\n",
            " [-0.21681392 -0.06677403 -0.21681392 -0.06677403 -0.04294266 -0.04294266\n",
            "   0.65306122]\n",
            " [-0.04294266 -0.21681392 -0.06677403 -0.06677403  0.65306122 -0.21681392\n",
            "  -0.04294266]]\n",
            "This matrix should be ~0. Because t' IS at a division point\n",
            "[[0 0 0 0 0 0 0]\n",
            " [0 0 0 0 0 0 0]\n",
            " [0 0 0 0 0 0 0]\n",
            " [0 0 0 0 0 0 0]\n",
            " [0 0 0 0 0 0 0]\n",
            " [0 0 0 0 0 0 0]\n",
            " [0 0 0 0 0 0 0]]\n"
          ]
        }
      ]
    },
    {
      "cell_type": "markdown",
      "source": [
        "(Note from future self): Something about this was bugging me when I originally went through it. So I decided to take a look at some explicitly markovian processes to see how they behaved following this same recipe.\n",
        "\n",
        "Looking into Markov Chains explicitly and using an example from Brilliant.org.\n",
        "\n",
        "Conceptually the idea of memorylessness makes sense, but it's always good to practice with something simple to make sure you actually get the concept (which is how this whole thing started anyway.\n",
        "\n",
        "Explicitly in text:\n",
        "* A to A: 0.3\n",
        "* A to B: 0.7\n",
        "* B to A: 0.8\n",
        "* B to B: 0.2\n",
        "\n",
        "Cite:\n",
        "*Markov Chains*. Brilliant.org. Retrieved 11:48, January 23, 2025, from https://brilliant.org/wiki/markov-chains/"
      ],
      "metadata": {
        "id": "XMCR9jM882MU"
      }
    },
    {
      "cell_type": "code",
      "source": [
        "Markov = np.array( [[0.3,0.7],[0.8,0.2] ])\n",
        "\n",
        "UnitaryChecks(Markov)"
      ],
      "metadata": {
        "id": "vyLnrFPky9HR",
        "colab": {
          "base_uri": "https://localhost:8080/"
        },
        "outputId": "89b86dcd-3c69-46e1-c7ff-bf0284eb9938"
      },
      "execution_count": null,
      "outputs": [
        {
          "output_type": "stream",
          "name": "stdout",
          "text": [
            "Unitary checks for:\n",
            "[[0.3 0.7]\n",
            " [0.8 0.2]]\n",
            "Determinant:  -0.5\n",
            "A * A^dagger\n",
            "[[0.58 0.38]\n",
            " [0.38 0.68]]\n"
          ]
        }
      ]
    },
    {
      "cell_type": "code",
      "source": [
        "np.matmul(Markov,Markov)"
      ],
      "metadata": {
        "colab": {
          "base_uri": "https://localhost:8080/"
        },
        "id": "J0unSKqW9x1Z",
        "outputId": "b2d95d97-d418-4588-d3c6-ac131478c087"
      },
      "execution_count": null,
      "outputs": [
        {
          "output_type": "execute_result",
          "data": {
            "text/plain": [
              "array([[0.65, 0.35],\n",
              "       [0.4 , 0.6 ]])"
            ]
          },
          "metadata": {},
          "execution_count": 7
        }
      ]
    },
    {
      "cell_type": "markdown",
      "source": [
        "Ok, so not Unitary and the transition matrix for 2 steps checks out with what's on Brilliant (I.e 2 steps from A to B is 0.35).\n",
        "\n",
        "Out of curiosity lets try a slightly different matrix."
      ],
      "metadata": {
        "id": "cqBB8AKth1MP"
      }
    },
    {
      "cell_type": "code",
      "source": [
        "Markov2 = np.array( [[0.3,0.7],[0.7,0.3] ])\n",
        "\n",
        "UnitaryChecks(Markov2)"
      ],
      "metadata": {
        "colab": {
          "base_uri": "https://localhost:8080/"
        },
        "id": "F-RosubdiBqm",
        "outputId": "96685dd9-ce64-4786-c674-76b5a33adca3"
      },
      "execution_count": null,
      "outputs": [
        {
          "output_type": "stream",
          "name": "stdout",
          "text": [
            "Unitary checks for:\n",
            "[[0.3 0.7]\n",
            " [0.7 0.3]]\n",
            "Determinant:  -0.39999999999999997\n",
            "A * A^dagger\n",
            "[[0.58 0.42]\n",
            " [0.42 0.58]]\n"
          ]
        }
      ]
    },
    {
      "cell_type": "markdown",
      "source": [
        "\n",
        "\n",
        "Lets try a different one from brilliant. A to C to B, basic loop. Why this one? Because it's smaller, but fundamentally similar to the original Sigma matrix I started with at the top. And I'm trying to understand what in particular makes THAT one non-markovian."
      ],
      "metadata": {
        "id": "XL0ZxoCfBXQf"
      }
    },
    {
      "cell_type": "code",
      "source": [
        "Markov_small = np.array( [[0, 0, 1],[1, 0, 0],[0, 1, 0]])\n",
        "\n",
        "UnitaryChecks(Markov_small)\n",
        "\n",
        "CompositionCheck(4.0,1.5,Markov_small)\n",
        "\n",
        "DivsibilityCheck(4.0,2.0,Markov_small)"
      ],
      "metadata": {
        "colab": {
          "base_uri": "https://localhost:8080/"
        },
        "id": "lwnY3E75HSjS",
        "outputId": "9770d7f9-ebdb-4231-b756-01668555f413"
      },
      "execution_count": null,
      "outputs": [
        {
          "output_type": "stream",
          "name": "stdout",
          "text": [
            "Unitary checks for:\n",
            "[[0 0 1]\n",
            " [1 0 0]\n",
            " [0 1 0]]\n",
            "Determinant:  1.0\n",
            "A * A^dagger\n",
            "[[1 0 0]\n",
            " [0 1 0]\n",
            " [0 0 1]]\n",
            "This matrix should not be ~0. Because t' is NOT at a division point\n",
            "[[-0.2962963  -0.2962963   0.59259259]\n",
            " [ 0.59259259 -0.2962963  -0.2962963 ]\n",
            " [-0.2962963   0.59259259 -0.2962963 ]]\n",
            "This matrix should be ~0. Because t' IS at a division point\n",
            "[[0 0 0]\n",
            " [0 0 0]\n",
            " [0 0 0]]\n"
          ]
        }
      ]
    },
    {
      "cell_type": "markdown",
      "source": [
        "Ok, so this one is clearly markovian, but works through the process just fine.\n",
        "\n",
        "Also, I think my original matrix is markovian as well as it functions similarly the same.  \n",
        "\n",
        "I found a nice example of a non-markovian process (https://math.stackexchange.com/questions/89394/example-of-a-stochastic-process-which-does-not-have-the-markov-property) with the green and red balls. That one very clearly has memeory, but I've no idea how to turn it into a stochastic matrix.\n"
      ],
      "metadata": {
        "id": "pT6lV6tAb-QQ"
      }
    },
    {
      "cell_type": "code",
      "source": [],
      "metadata": {
        "id": "3CYcy1u9gig1"
      },
      "execution_count": null,
      "outputs": []
    },
    {
      "cell_type": "markdown",
      "source": [
        "June 2, 2025 Note: Ok so I think I figured out what I was missing initially, and why it was bugging me. My first sigma matrix is doesn't change in time. Configuration one does transition to configuration seven. But it ALWAYS does that and I was treating successive applications of the matrix as time steps.\n",
        "\n",
        "But then, how do you take that and make a permutation matrix out of it."
      ],
      "metadata": {
        "id": "C48AtfAT7NsO"
      }
    },
    {
      "cell_type": "code",
      "source": [],
      "metadata": {
        "id": "_a3sVU1k9uTT"
      },
      "execution_count": 10,
      "outputs": []
    }
  ]
}